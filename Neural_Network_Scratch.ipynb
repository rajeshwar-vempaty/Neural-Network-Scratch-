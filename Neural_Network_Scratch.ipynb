{
  "nbformat": 4,
  "nbformat_minor": 0,
  "metadata": {
    "colab": {
      "provenance": []
    },
    "kernelspec": {
      "name": "python3",
      "display_name": "Python 3"
    },
    "language_info": {
      "name": "python"
    }
  },
  "cells": [
    {
      "cell_type": "code",
      "execution_count": 1,
      "metadata": {
        "id": "NPdC_GUbyRXM"
      },
      "outputs": [],
      "source": [
        "#Importing libraries\n",
        "import numpy as np\n",
        "import pandas as pd\n",
        "import matplotlib.pyplot as plt\n",
        "from sklearn.metrics import accuracy_score"
      ]
    },
    {
      "cell_type": "markdown",
      "source": [
        "Building a Simple Neural Network algorithm from scratch..."
      ],
      "metadata": {
        "id": "Y-dORuN1ygOz"
      }
    },
    {
      "cell_type": "code",
      "source": [
        "class Neural_Network:\n",
        "\n",
        "  def __init__(self, input_size, hidden_size, output_size):\n",
        "\n",
        "    # Input to Hidden Layer weights\n",
        "    self.hidden_weights = np.random.rand(input_size, hidden_size)\n",
        "    self.hidden_bias = np.zeros((1, hidden_size))\n",
        "\n",
        "    # Hidden layer to Output weights\n",
        "    self.output_weights = np.random.rand(hidden_size, output_size)\n",
        "    self.output_bias = np.zeros((1, output_size))\n",
        "\n",
        "  # Activation Function & Its derivative\n",
        "  def sigmoid(self, x):\n",
        "    return 1 / (1 + np.exp(-x))\n",
        "\n",
        "  def sigmoid_derivative(self, x):\n",
        "    return x * (1 - x)\n",
        "\n",
        "  # Loss function\n",
        "  def loss(self, y, y_hat):\n",
        "    m = len(y)\n",
        "    loss = -1/m * np.sum(y * np.log(y_hat) + (1 - y) * np.log(1 - y_hat))\n",
        "    return loss\n",
        "\n",
        "  # Forward Propagation\n",
        "  def forward_propagation(self, X):\n",
        "    # Input to Hidden\n",
        "    self.hidden_layer_input = np.dot(X, self.hidden_weights) + self.hidden_bias\n",
        "    self.hidden_layer_output = self.sigmoid(self.hidden_layer_input)\n",
        "\n",
        "    # Hidden to Output\n",
        "    self.output_layer_input = np.dot(self.hidden_layer_output, self.output_weights) + self.output_bias\n",
        "    return self.sigmoid(self.output_layer_input)\n",
        "\n",
        "  # Backward Propagation\n",
        "  def backward_propagation(self, X, y, predicted_output, learning_rate):\n",
        "    # Outputlayer\n",
        "    error = y - predicted_output\n",
        "    d_predicted_output = error * self.sigmoid_derivative(predicted_output)\n",
        "\n",
        "    #Hiddenlayer\n",
        "    error_hidden_layer = d_predicted_output.dot(self.output_weights.T)\n",
        "    d_hidden_layer = error_hidden_layer * self.sigmoid_derivative(self.hidden_layer_output)\n",
        "\n",
        "    # Updating weights & bias @ output_layer\n",
        "    self.output_weights += self.hidden_layer_output.T.dot(d_predicted_output) * learning_rate\n",
        "    self.output_bias += np.sum(d_predicted_output, axis=0, keepdims=True) * learning_rate\n",
        "\n",
        "    # Updating weights & bias @ hidden_layer\n",
        "    self.hidden_weights += X.T.dot(d_hidden_layer) * learning_rate\n",
        "    self.hidden_bias += np.sum(d_hidden_layer, axis=0, keepdims=True) * learning_rate\n",
        "\n",
        "  # Calculating Accuracy\n",
        "  def accuracy(self, X, y):\n",
        "    predictions = self.predict(X)\n",
        "    class_labels = (predictions > 0.5).astype(int)\n",
        "    return np.mean(class_labels == y)\n",
        "\n",
        "  # Training the model\n",
        "  def train(self, X_train, y_train, epochs, learning_rate, print_every):\n",
        "    self.train_accuracy = []\n",
        "    self.train_loss = []\n",
        "\n",
        "    # Looping through iterations\n",
        "    for epoch in range(epochs):\n",
        "      predicted_output_train = self.forward_propagation(X_train)\n",
        "      self.backward_propagation(X_train, y_train, predicted_output_train, learning_rate)\n",
        "\n",
        "      # Appending loss and accuracy\n",
        "      self.train_accuracy.append(self.accuracy(X_train, y_train))\n",
        "      self.train_loss.append(self.loss(y_train, predicted_output_train))\n",
        "\n",
        "\n",
        "      if epoch % print_every == 0:\n",
        "          # Evaluating on training data\n",
        "          train_accuracy = self.accuracy(X_train, y_train)\n",
        "          train_loss = self.loss(y_train, predicted_output_train)\n",
        "\n",
        "        # Printing the results for each specified epoch\n",
        "          print(f\"Epoch {epoch+1}/{epochs}\")\n",
        "          print(f\"Train Accuracy: {train_accuracy:.4f}, Train Loss: {train_loss:.4f}\\n\")\n",
        "\n",
        "  # Making predictions\n",
        "  def predict(self, X):\n",
        "    return self.forward_propagation(X)\n",
        "    print(self.forward_propagation)"
      ],
      "metadata": {
        "id": "5Zc_gxKcyZn-"
      },
      "execution_count": 3,
      "outputs": []
    },
    {
      "cell_type": "markdown",
      "source": [
        "To check we take PIMA Indian Diabetic Dataset from this source https://raw.githubusercontent.com/jbrownlee/Datasets/master/pima-indians-diabetes.csv"
      ],
      "metadata": {
        "id": "FsNf3rCDysC-"
      }
    },
    {
      "cell_type": "code",
      "source": [
        "df = pd.read_csv('https://raw.githubusercontent.com/jbrownlee/Datasets/master/pima-indians-diabetes.csv', header=None)\n",
        "columns = [\"Pregnancies\", \"Glucose\", \"BloodPressure\", \"SkinThickness\", \"Insulin\", \"BMI\", \"DiabetesPedigreeFunction\", \"Age\", \"Class\"]\n",
        "df.columns = columns\n",
        "\n",
        "\n",
        "#Split the dataset\n",
        "X = df.drop('Class',axis=1)\n",
        "y = df['Class']\n",
        "from sklearn.model_selection import train_test_split\n",
        "X_train, X_test, y_train, y_test = train_test_split(X, y, test_size=0.30, random_state=1, stratify = y)\n",
        "\n",
        "#Scaling the dataset\n",
        "from sklearn.preprocessing import StandardScaler\n",
        "scaler = StandardScaler()\n",
        "X_train_scaled = scaler.fit_transform(X_train)\n",
        "X_test_scaled = scaler.transform(X_test)"
      ],
      "metadata": {
        "id": "i3dLzrF5y4WJ"
      },
      "execution_count": 4,
      "outputs": []
    },
    {
      "cell_type": "markdown",
      "source": [
        "Passing dataset to the algorithm"
      ],
      "metadata": {
        "id": "ZZJoxr3CzF2k"
      }
    },
    {
      "cell_type": "code",
      "source": [
        "# Training & Fitting the model\n",
        "y_train = np.array(y_train).reshape(-1, 1)\n",
        "y_test = np.array(y_test).reshape(-1, 1)\n",
        "\n",
        "nn_clf = Neural_Network(input_size = 8, hidden_size = 3, output_size = 1)\n",
        "nn_clf.train(X_train_scaled, y_train, epochs=10000, learning_rate=0.001, print_every=1000)\n",
        "\n",
        "# Calculating accuracy\n",
        "train_accuracy = nn_clf.accuracy(X_train_scaled, y_train)\n",
        "test_accuracy = nn_clf.accuracy(X_test_scaled, y_test)\n",
        "\n",
        "print(f\"Training Accuracy: {train_accuracy * 100:.2f}%\\n\")\n",
        "print(f\"Test Accuracy: {test_accuracy * 100:.2f}%\\n\")\n",
        "\n",
        "# Printing weights and biases\n",
        "# Ensure you're accessing the correct variable names for weights and biases\n",
        "print(f\"Final hidden weights: \\n\", nn_clf.hidden_weights.round(4))\n",
        "print(\"\\nFinal hidden bias: \\n\", nn_clf.hidden_bias.round(4))\n",
        "print(\"\\nFinal output weights: \\n\", nn_clf.output_weights.round(4))\n",
        "print(\"\\nFinal output bias: \\n\", nn_clf.output_bias.round(4), \"\\n\")\n",
        "\n",
        "# Plotting Loss and Accuracy\n",
        "fig, (ax1, ax2) = plt.subplots(1,2, figsize=(12, 6))\n",
        "\n",
        "# Ensure you're using the correct variable names that store the loss and accuracy history\n",
        "ax1.plot(nn_clf.train_accuracy)\n",
        "ax1.set_title('Accuracy vs. Epochs')\n",
        "ax1.set_xlabel('Epochs')\n",
        "ax1.set_ylabel('Accuracy')\n",
        "\n",
        "ax2.plot(nn_clf.train_loss)\n",
        "ax2.set_title('Loss vs. Epochs')\n",
        "ax2.set_xlabel('Epochs')\n",
        "ax2.set_ylabel('Loss')\n",
        "\n",
        "plt.tight_layout()\n",
        "plt.show()"
      ],
      "metadata": {
        "colab": {
          "base_uri": "https://localhost:8080/",
          "height": 1000
        },
        "id": "5yPg9gs5zLR5",
        "outputId": "dfd26ad0-89fa-4e9a-b37b-30c3536e2d37"
      },
      "execution_count": 6,
      "outputs": [
        {
          "output_type": "stream",
          "name": "stdout",
          "text": [
            "Epoch 1/10000\n",
            "Train Accuracy: 0.3538, Train Loss: 0.8514\n",
            "\n",
            "Epoch 1001/10000\n",
            "Train Accuracy: 0.7858, Train Loss: 0.4635\n",
            "\n",
            "Epoch 2001/10000\n",
            "Train Accuracy: 0.7840, Train Loss: 0.4494\n",
            "\n",
            "Epoch 3001/10000\n",
            "Train Accuracy: 0.7933, Train Loss: 0.4401\n",
            "\n",
            "Epoch 4001/10000\n",
            "Train Accuracy: 0.7952, Train Loss: 0.4334\n",
            "\n",
            "Epoch 5001/10000\n",
            "Train Accuracy: 0.7989, Train Loss: 0.4287\n",
            "\n",
            "Epoch 6001/10000\n",
            "Train Accuracy: 0.8026, Train Loss: 0.4252\n",
            "\n",
            "Epoch 7001/10000\n",
            "Train Accuracy: 0.7989, Train Loss: 0.4219\n",
            "\n",
            "Epoch 8001/10000\n",
            "Train Accuracy: 0.8101, Train Loss: 0.4188\n",
            "\n",
            "Epoch 9001/10000\n",
            "Train Accuracy: 0.8138, Train Loss: 0.4154\n",
            "\n",
            "Training Accuracy: 80.82%\n",
            "\n",
            "Test Accuracy: 72.73%\n",
            "\n",
            "Final hidden weights: \n",
            " [[ 1.1378 -1.0873  1.2262]\n",
            " [ 1.7178  0.3203  2.0468]\n",
            " [-0.9022 -0.5677  0.6148]\n",
            " [ 0.4081 -0.4609 -0.514 ]\n",
            " [ 1.1227 -0.8309 -0.9475]\n",
            " [ 0.5935  2.321  -0.2551]\n",
            " [-0.3483  1.7006  0.3998]\n",
            " [-1.0997  0.3327  2.1754]]\n",
            "\n",
            "Final hidden bias: \n",
            " [[-0.876  -0.6359  1.1582]]\n",
            "\n",
            "Final output weights: \n",
            " [[2.8413]\n",
            " [2.2364]\n",
            " [2.9086]]\n",
            "\n",
            "Final output bias: \n",
            " [[-4.504]] \n",
            "\n"
          ]
        },
        {
          "output_type": "display_data",
          "data": {
            "text/plain": [
              "<Figure size 1200x600 with 2 Axes>"
            ],
            "image/png": "[encoded data removed]"
          },
          "metadata": {}
        }
      ]
    }
  ]
}